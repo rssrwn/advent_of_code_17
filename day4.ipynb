{
 "cells": [
  {
   "cell_type": "code",
   "execution_count": 26,
   "metadata": {},
   "outputs": [],
   "source": [
    "# Imports\n",
    "\n",
    "import re"
   ]
  },
  {
   "cell_type": "code",
   "execution_count": 23,
   "metadata": {},
   "outputs": [],
   "source": [
    "# Return list of list of words\n",
    "def parseInput(fileName):\n",
    "    res = []\n",
    "    fo = open(fileName, \"r\")\n",
    "    line = fo.readline().strip()\n",
    "    while line != \"\":\n",
    "        words = re.split(' ', line)\n",
    "        res.append(list(words))\n",
    "        line = fo.readline().strip()\n",
    "        \n",
    "    return res"
   ]
  },
  {
   "cell_type": "code",
   "execution_count": 20,
   "metadata": {},
   "outputs": [],
   "source": [
    "filename = \"day4.txt\"\n",
    "data = parseInput(filename)\n",
    "#print(data)"
   ]
  },
  {
   "cell_type": "code",
   "execution_count": 37,
   "metadata": {},
   "outputs": [],
   "source": [
    "# Part 1\n",
    "# Passphrases are valid if no two words are the same\n",
    "\n",
    "# Returns the number of valid lines given a list of lists of words\n",
    "def numValidEqual(formattedData):\n",
    "    total = 0\n",
    "    for line in formattedData:\n",
    "        if isValidEqual(line):\n",
    "            total += 1\n",
    "    \n",
    "    return total\n",
    "\n",
    "\n",
    "# Returns whether a list of words (passphrase) is valid\n",
    "def isValidEqual(words):\n",
    "    wordSet = set()\n",
    "    valid = True\n",
    "    for word in words:\n",
    "        if word in wordSet:\n",
    "            valid = False\n",
    "            break\n",
    "        \n",
    "        wordSet.add(word)\n",
    "        \n",
    "    return valid"
   ]
  },
  {
   "cell_type": "code",
   "execution_count": 38,
   "metadata": {},
   "outputs": [
    {
     "name": "stdout",
     "output_type": "stream",
     "text": [
      "386\n"
     ]
    }
   ],
   "source": [
    "part1 = numValidEqual(data)\n",
    "print(part1)"
   ]
  },
  {
   "cell_type": "code",
   "execution_count": 50,
   "metadata": {},
   "outputs": [],
   "source": [
    "# Part 2\n",
    "# Passphrases are valid if no two words are anagrams of ecah other\n",
    "\n",
    "\n",
    "# Returns the number of valid lines given a list of lists of words\n",
    "def numValidAnagram(formattedData):\n",
    "    total = 0\n",
    "    for line in formattedData:\n",
    "        if isValidAnagram(line):\n",
    "            total += 1\n",
    "    \n",
    "    return total\n",
    "\n",
    "\n",
    "# Returns whether a list of words if valid\n",
    "def isValidAnagram(words):\n",
    "    wordSets = map(lambda word: set(word), words)\n",
    "    \n",
    "    wordsAcc = []\n",
    "    valid = True\n",
    "    for letterSet in wordSets:\n",
    "        if letterSet in wordsAcc:\n",
    "            valid = False\n",
    "            break\n",
    "        \n",
    "        wordsAcc.append(letterSet)\n",
    "    \n",
    "    \n",
    "    return valid"
   ]
  },
  {
   "cell_type": "code",
   "execution_count": 51,
   "metadata": {},
   "outputs": [
    {
     "name": "stdout",
     "output_type": "stream",
     "text": [
      "208\n"
     ]
    }
   ],
   "source": [
    "part2 = numValidAnagram(data)\n",
    "print(part2)"
   ]
  },
  {
   "cell_type": "code",
   "execution_count": null,
   "metadata": {},
   "outputs": [],
   "source": []
  }
 ],
 "metadata": {
  "kernelspec": {
   "display_name": "Python 3",
   "language": "python",
   "name": "python3"
  },
  "language_info": {
   "codemirror_mode": {
    "name": "ipython",
    "version": 3
   },
   "file_extension": ".py",
   "mimetype": "text/x-python",
   "name": "python",
   "nbconvert_exporter": "python",
   "pygments_lexer": "ipython3",
   "version": "3.6.5"
  }
 },
 "nbformat": 4,
 "nbformat_minor": 2
}
