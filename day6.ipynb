{
 "cells": [
  {
   "cell_type": "code",
   "execution_count": 5,
   "metadata": {},
   "outputs": [],
   "source": [
    "# Imports\n",
    "\n",
    "import re"
   ]
  },
  {
   "cell_type": "code",
   "execution_count": 8,
   "metadata": {},
   "outputs": [],
   "source": [
    "# Return list of list of numbers\n",
    "def parseInput(fileName):\n",
    "    fo = open(fileName, \"r\")\n",
    "    line = fo.readline()\n",
    "    strNums = re.split(r'\\t+', line)\n",
    "    res = map(lambda num: int(num), strNums)  \n",
    "    return list(res)"
   ]
  },
  {
   "cell_type": "code",
   "execution_count": 21,
   "metadata": {},
   "outputs": [
    {
     "name": "stdout",
     "output_type": "stream",
     "text": [
      "[5, 1, 10, 0, 1, 7, 13, 14, 3, 12, 8, 10, 7, 12, 0, 6]\n"
     ]
    }
   ],
   "source": [
    "filename = \"day6.txt\"\n",
    "data = parseInput(filename)\n",
    "print(data)"
   ]
  },
  {
   "cell_type": "code",
   "execution_count": 28,
   "metadata": {},
   "outputs": [],
   "source": [
    "def simulatePart1(banks):\n",
    "    numBanks = len(banks)\n",
    "    configs = [banks]\n",
    "    iterations = 0\n",
    "    while True:\n",
    "        copy = banks[:]\n",
    "        iterations += 1\n",
    "        maxBlocks = max(copy)\n",
    "        currBank = copy.index(maxBlocks)\n",
    "        copy[currBank] = 0\n",
    "        for i in range(1, maxBlocks+1):\n",
    "            index = (currBank + i) % numBanks\n",
    "            copy[index] += 1\n",
    "        \n",
    "        if copy in configs:\n",
    "            return iterations\n",
    "        else:\n",
    "            configs.append(copy)\n",
    "            banks = copy"
   ]
  },
  {
   "cell_type": "code",
   "execution_count": 29,
   "metadata": {},
   "outputs": [
    {
     "name": "stdout",
     "output_type": "stream",
     "text": [
      "5042\n"
     ]
    }
   ],
   "source": [
    "part1 = simulatePart1(data[:])\n",
    "print(part1)"
   ]
  },
  {
   "cell_type": "code",
   "execution_count": 32,
   "metadata": {},
   "outputs": [],
   "source": [
    "def simulatePart2(banks):\n",
    "    numBanks = len(banks)\n",
    "    configs = [banks]\n",
    "    iterations = 0\n",
    "    while True:\n",
    "        copy = banks[:]\n",
    "        iterations += 1\n",
    "        maxBlocks = max(copy)\n",
    "        currBank = copy.index(maxBlocks)\n",
    "        copy[currBank] = 0\n",
    "        for i in range(1, maxBlocks+1):\n",
    "            index = (currBank + i) % numBanks\n",
    "            copy[index] += 1\n",
    "        \n",
    "        if copy in configs:\n",
    "            prevIndex = configs.index(copy)\n",
    "            currIndex = len(configs)\n",
    "            return currIndex - prevIndex\n",
    "        else:\n",
    "            configs.append(copy)\n",
    "            banks = copy\n"
   ]
  },
  {
   "cell_type": "code",
   "execution_count": 34,
   "metadata": {},
   "outputs": [
    {
     "name": "stdout",
     "output_type": "stream",
     "text": [
      "1086\n"
     ]
    }
   ],
   "source": [
    "part2 = simulatePart2(data[:])\n",
    "print(part2)"
   ]
  },
  {
   "cell_type": "code",
   "execution_count": null,
   "metadata": {},
   "outputs": [],
   "source": []
  }
 ],
 "metadata": {
  "kernelspec": {
   "display_name": "Python 3",
   "language": "python",
   "name": "python3"
  },
  "language_info": {
   "codemirror_mode": {
    "name": "ipython",
    "version": 3
   },
   "file_extension": ".py",
   "mimetype": "text/x-python",
   "name": "python",
   "nbconvert_exporter": "python",
   "pygments_lexer": "ipython3",
   "version": "3.6.5"
  }
 },
 "nbformat": 4,
 "nbformat_minor": 2
}
