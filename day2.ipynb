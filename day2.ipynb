{
 "cells": [
  {
   "cell_type": "code",
   "execution_count": 33,
   "metadata": {},
   "outputs": [],
   "source": [
    "# Imports\n",
    "\n",
    "import re\n",
    "from functools import reduce"
   ]
  },
  {
   "cell_type": "code",
   "execution_count": 34,
   "metadata": {},
   "outputs": [],
   "source": [
    "# Return list of list of numbers\n",
    "def parseInput(fileName):\n",
    "    res = []\n",
    "    fo = open(fileName, \"r\")\n",
    "    line = fo.readline()\n",
    "    while line != \"\":\n",
    "        strNums = re.split(r'\\t+', line)\n",
    "        nums = map(lambda num: int(num), strNums)  \n",
    "        res.append(list(nums))\n",
    "        line = fo.readline()\n",
    "        \n",
    "    return res"
   ]
  },
  {
   "cell_type": "code",
   "execution_count": 35,
   "metadata": {},
   "outputs": [
    {
     "name": "stdout",
     "output_type": "stream",
     "text": [
      "[[737, 1866, 1565, 1452, 1908, 1874, 232, 1928, 201, 241, 922, 281, 1651, 1740, 1012, 1001], [339, 581, 41, 127, 331, 133, 51, 131, 129, 95, 499, 527, 518, 435, 508, 494], [1014, 575, 1166, 259, 152, 631, 1152, 1010, 182, 943, 163, 158, 1037, 1108, 1092, 887], [56, 491, 409, 1263, 1535, 41, 1431, 1207, 1393, 700, 1133, 53, 131, 466, 202, 62], [632, 403, 118, 352, 253, 672, 711, 135, 116, 665, 724, 780, 159, 133, 90, 100], [1580, 85, 1786, 1613, 1479, 100, 94, 1856, 546, 76, 1687, 1769, 1284, 1422, 1909, 1548], [479, 356, 122, 372, 786, 1853, 979, 116, 530, 123, 1751, 887, 109, 1997, 160, 1960], [446, 771, 72, 728, 109, 369, 300, 746, 86, 910, 566, 792, 616, 84, 338, 57], [6599, 2182, 200, 2097, 4146, 7155, 7018, 1815, 1173, 4695, 201, 7808, 242, 3627, 222, 7266], [1729, 600, 651, 165, 1780, 2160, 626, 1215, 149, 179, 1937, 1423, 156, 129, 634, 458], [1378, 121, 146, 437, 1925, 2692, 130, 557, 2374, 2538, 2920, 2791, 156, 317, 139, 541], [1631, 176, 1947, 259, 2014, 153, 268, 752, 2255, 347, 227, 2270, 2278, 544, 2379, 349], [184, 314, 178, 242, 145, 410, 257, 342, 183, 106, 302, 320, 288, 151, 449, 127], [175, 5396, 1852, 4565, 4775, 665, 4227, 171, 4887, 181, 2098, 4408, 2211, 3884, 2482, 158], [1717, 3629, 244, 258, 281, 3635, 235, 4148, 3723, 4272, 3589, 4557, 4334, 4145, 3117, 4510], [55, 258, 363, 116, 319, 49, 212, 44, 303, 349, 327, 330, 316, 297, 313, 67]]\n"
     ]
    }
   ],
   "source": [
    "fileName = \"day2.txt\"\n",
    "data = parseInput(fileName)\n",
    "print(data)"
   ]
  },
  {
   "cell_type": "code",
   "execution_count": 36,
   "metadata": {},
   "outputs": [],
   "source": [
    "# Part 1\n",
    "\n",
    "# The sum of differences between the largest and smallest value in each array\n",
    "def checksum(arrs):\n",
    "    diffs = map(lambda arr: max(arr) - min(arr), arrs)\n",
    "    return reduce(lambda x, y: x+y, diffs)"
   ]
  },
  {
   "cell_type": "code",
   "execution_count": 37,
   "metadata": {},
   "outputs": [
    {
     "name": "stdout",
     "output_type": "stream",
     "text": [
      "34925\n"
     ]
    }
   ],
   "source": [
    "ransPart1 = checksum(data)\n",
    "print(ansPart1)"
   ]
  },
  {
   "cell_type": "code",
   "execution_count": 61,
   "metadata": {},
   "outputs": [],
   "source": [
    "# Part 2\n",
    "\n",
    "# Each row contains two numbers which divide each other, divide them and add all the results\n",
    "def part2(data):\n",
    "    res = 0\n",
    "    for arr in data:\n",
    "        for elem in arr:\n",
    "            copy = arr[:]\n",
    "            copy.remove(elem)\n",
    "            for elem2 in copy:\n",
    "                if elem % elem2 == 0:\n",
    "                    if elem > elem2:\n",
    "                        res += (elem // elem2)\n",
    "                    else:\n",
    "                        res += (elem2 // elem)\n",
    "                        \n",
    "    return res"
   ]
  },
  {
   "cell_type": "code",
   "execution_count": 62,
   "metadata": {},
   "outputs": [
    {
     "name": "stdout",
     "output_type": "stream",
     "text": [
      "221\n"
     ]
    }
   ],
   "source": [
    "ansPart2 = part2(data)\n",
    "print(ansPart2)"
   ]
  },
  {
   "cell_type": "code",
   "execution_count": null,
   "metadata": {},
   "outputs": [],
   "source": []
  }
 ],
 "metadata": {
  "kernelspec": {
   "display_name": "Python 3",
   "language": "python",
   "name": "python3"
  },
  "language_info": {
   "codemirror_mode": {
    "name": "ipython",
    "version": 3
   },
   "file_extension": ".py",
   "mimetype": "text/x-python",
   "name": "python",
   "nbconvert_exporter": "python",
   "pygments_lexer": "ipython3",
   "version": "3.6.5"
  }
 },
 "nbformat": 4,
 "nbformat_minor": 2
}
