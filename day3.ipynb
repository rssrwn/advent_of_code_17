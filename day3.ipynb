{
 "cells": [
  {
   "cell_type": "code",
   "execution_count": 14,
   "metadata": {},
   "outputs": [],
   "source": [
    "# Imports\n"
   ]
  },
  {
   "cell_type": "code",
   "execution_count": 44,
   "metadata": {},
   "outputs": [],
   "source": [
    "def spiralMemory(num):\n",
    "    numSides = 4\n",
    "    layerFirst = 1\n",
    "    layerLast = 1\n",
    "    layerSize = 1\n",
    "    \n",
    "    i = 1\n",
    "    lengthSide = i-1\n",
    "    while layerLast < num:\n",
    "        i += 2\n",
    "        lengthSide = i-1\n",
    "        layerLast = i ** 2\n",
    "        layerSize = lengthSide * numSides\n",
    "        layerFirst = (layerLast - layerSize) + 1\n",
    "        \n",
    "    for j in range(numSides):\n",
    "        segmentFirst = layerFirst + (j * lengthSide)\n",
    "        segmentLast = layerFirst + ((j+1) * lengthSide)\n",
    "        if num < segmentLast:\n",
    "            spiralNum = computeSpiralNumber(segmentFirst, lengthSide, j)\n",
    "            steps = (i-1) // 2\n",
    "            return abs(spiralNum - num) + steps\n",
    "       \n",
    "    return 0\n",
    " \n",
    "\n",
    "# Find number at dist from 1\n",
    "# j is direction travelled:\n",
    "# 0: left\n",
    "# 1: up\n",
    "# 2: right\n",
    "# 3: down\n",
    "def computeSpiralNumber(segmentFirst, segmentLength, j):\n",
    "    segmentHalfway = (segmentLength - 1) // 2\n",
    "    segmentHalfwayNum = segmentHalfway + segmentFirst\n",
    "    return segmentHalfwayNum"
   ]
  },
  {
   "cell_type": "code",
   "execution_count": 45,
   "metadata": {},
   "outputs": [
    {
     "name": "stdout",
     "output_type": "stream",
     "text": [
      "0\n",
      "3\n",
      "2\n",
      "31\n"
     ]
    }
   ],
   "source": [
    "# Testing\n",
    "\n",
    "print(spiralMemory(1))\n",
    "assert(spiralMemory(1) == 0)\n",
    "\n",
    "print(spiralMemory(12))\n",
    "assert(spiralMemory(12) == 3)\n",
    "\n",
    "print(spiralMemory(23))\n",
    "assert(spiralMemory(23) == 2)\n",
    "\n",
    "print(spiralMemory(1024))\n",
    "assert(spiralMemory(1024) == 31)\n"
   ]
  },
  {
   "cell_type": "code",
   "execution_count": 46,
   "metadata": {},
   "outputs": [
    {
     "name": "stdout",
     "output_type": "stream",
     "text": [
      "552\n"
     ]
    }
   ],
   "source": [
    "data = 325489\n",
    "print(spiralMemory(data))"
   ]
  },
  {
   "cell_type": "code",
   "execution_count": 64,
   "metadata": {},
   "outputs": [],
   "source": [
    "def part2(num):\n",
    "    numSegments = 4\n",
    "    grid = {}\n",
    "    numWritten = 1\n",
    "    x = 0\n",
    "    y = 0\n",
    "    grid[(x,y)] = numWritten\n",
    "    \n",
    "    layer = 1\n",
    "    layerLength = 3\n",
    "    while True:\n",
    "        segmentLength = layerLength -1\n",
    "        \n",
    "        x += 1\n",
    "        y -= 1\n",
    "        for segment in range(numSegments):\n",
    "            for elem in range(segmentLength):\n",
    "                x, y = incrementCoord(x, y, segment)\n",
    "                numWritten = calcNum(grid, x, y)\n",
    "                grid[(x,y)] = numWritten\n",
    "                if numWritten > num:\n",
    "                    return numWritten\n",
    "                \n",
    "        layerLength += 2\n",
    "        layer += 1\n",
    "        \n",
    "    return numWritten\n",
    "\n",
    "\n",
    "# Increment coord depending on the current segment\n",
    "# segmentIndex is as follows:\n",
    "# 0: left\n",
    "# 1: up\n",
    "# 2: right\n",
    "# 3: down\n",
    "def incrementCoord(x, y, segmentIndex):\n",
    "    if segmentIndex == 0:\n",
    "        y += 1\n",
    "    \n",
    "    elif segmentIndex == 1:\n",
    "        x -= 1\n",
    "    \n",
    "    elif segmentIndex == 2:\n",
    "        y -= 1\n",
    "    \n",
    "    elif segmentIndex == 3:\n",
    "        x += 1\n",
    "        \n",
    "    return x, y\n",
    "\n",
    "\n",
    "# Calculate number based on surrounding numbers\n",
    "def calcNum(grid, x, y):\n",
    "    total = 0\n",
    "    for i in range(-1, 2):\n",
    "        for j in range(-1, 2):\n",
    "            xCopy = x + i\n",
    "            yCopy = y + j\n",
    "            try:\n",
    "                num = grid[(xCopy, yCopy)]\n",
    "                total += num\n",
    "            except KeyError:\n",
    "                continue\n",
    "            \n",
    "    return total"
   ]
  },
  {
   "cell_type": "code",
   "execution_count": 65,
   "metadata": {},
   "outputs": [
    {
     "name": "stdout",
     "output_type": "stream",
     "text": [
      "330785\n"
     ]
    }
   ],
   "source": [
    "print(part2(325489))"
   ]
  },
  {
   "cell_type": "code",
   "execution_count": null,
   "metadata": {},
   "outputs": [],
   "source": []
  }
 ],
 "metadata": {
  "kernelspec": {
   "display_name": "Python 3",
   "language": "python",
   "name": "python3"
  },
  "language_info": {
   "codemirror_mode": {
    "name": "ipython",
    "version": 3
   },
   "file_extension": ".py",
   "mimetype": "text/x-python",
   "name": "python",
   "nbconvert_exporter": "python",
   "pygments_lexer": "ipython3",
   "version": "3.6.5"
  }
 },
 "nbformat": 4,
 "nbformat_minor": 2
}
