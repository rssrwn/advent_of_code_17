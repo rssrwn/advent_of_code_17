{
 "cells": [
  {
   "cell_type": "code",
   "execution_count": 1,
   "metadata": {},
   "outputs": [],
   "source": [
    "# Imports\n",
    "\n",
    "import re\n",
    "from functools import reduce"
   ]
  },
  {
   "cell_type": "code",
   "execution_count": 2,
   "metadata": {},
   "outputs": [],
   "source": [
    "# Return 2 maps, one mapping names to weights for all nodes\n",
    "# Second mapping names to list of children for non-leaf nodes\n",
    "def parseInput(fileName):\n",
    "    fo = open(fileName, \"r\")\n",
    "    line = fo.readline()\n",
    "    \n",
    "    weights = {}\n",
    "    children = {}\n",
    "    while line != \"\":\n",
    "        split = re.split(' ', line)\n",
    "        length = len(split)\n",
    "        \n",
    "        weight = int(split[1].strip(\"()\\n\"))\n",
    "        weights[split[0]] = weight\n",
    "    \n",
    "        childList = []\n",
    "        if length > 2:\n",
    "            for i in range(3, length):\n",
    "                child = split[i]\n",
    "                child = child.strip(\",\\n\")\n",
    "                childList.append(child)\n",
    "        \n",
    "            children[split[0]] = childList\n",
    "        \n",
    "        line = fo.readline()\n",
    "        \n",
    "    return weights, children"
   ]
  },
  {
   "cell_type": "code",
   "execution_count": 3,
   "metadata": {},
   "outputs": [],
   "source": [
    "filename = \"day7.txt\"\n",
    "weights, children = parseInput(filename)"
   ]
  },
  {
   "cell_type": "code",
   "execution_count": 4,
   "metadata": {},
   "outputs": [],
   "source": [
    "# The tree must have more than one node\n",
    "def findRoot(childrenMap):\n",
    "    children = set()\n",
    "    for childrenList in childrenMap.values():\n",
    "        for child in childrenList:\n",
    "            children.add(child)\n",
    "            \n",
    "    for node in childrenMap.keys():\n",
    "        if not (node in children):\n",
    "            return node\n",
    "        \n",
    "    return None"
   ]
  },
  {
   "cell_type": "code",
   "execution_count": 5,
   "metadata": {},
   "outputs": [
    {
     "name": "stdout",
     "output_type": "stream",
     "text": [
      "ahnofa\n"
     ]
    }
   ],
   "source": [
    "root = findRoot(children)\n",
    "print(root)"
   ]
  },
  {
   "cell_type": "code",
   "execution_count": null,
   "metadata": {},
   "outputs": [],
   "source": [
    "# Returns a map from each leaf node to its weight from the root\n",
    "def pathWeights(weightMap, childrenMap, rootNode):\n",
    "    nodeQueue = [rootNode]\n",
    "    while len(nodeQueue) != 0:\n",
    "        node = nodeQueue[0]\n",
    "        nodeQueue.remove(node)\n",
    "        children = chidlrenMap[node]\n",
    "        map(lambda child: nodeQueue.append(child), children)\n",
    "        ###???"
   ]
  }
 ],
 "metadata": {
  "kernelspec": {
   "display_name": "Python 3",
   "language": "python",
   "name": "python3"
  },
  "language_info": {
   "codemirror_mode": {
    "name": "ipython",
    "version": 3
   },
   "file_extension": ".py",
   "mimetype": "text/x-python",
   "name": "python",
   "nbconvert_exporter": "python",
   "pygments_lexer": "ipython3",
   "version": "3.6.5"
  }
 },
 "nbformat": 4,
 "nbformat_minor": 2
}
