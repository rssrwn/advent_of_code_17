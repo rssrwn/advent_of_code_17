{
 "cells": [
  {
   "cell_type": "code",
   "execution_count": 2,
   "metadata": {},
   "outputs": [],
   "source": [
    "# Imports\n",
    "\n",
    "import re\n",
    "from functools import reduce"
   ]
  },
  {
   "cell_type": "code",
   "execution_count": 3,
   "metadata": {},
   "outputs": [],
   "source": [
    "# Return 2 maps, one mapping names to weights for all nodes\n",
    "# Second mapping names to list of children for non-leaf nodes\n",
    "def parseInput(fileName):\n",
    "    fo = open(fileName, \"r\")\n",
    "    line = fo.readline()\n",
    "    \n",
    "    weights = {}\n",
    "    children = {}\n",
    "    while line != \"\":\n",
    "        split = re.split(' ', line)\n",
    "        length = len(split)\n",
    "        \n",
    "        weight = int(split[1].strip(\"()\\n\"))\n",
    "        weights[split[0]] = weight\n",
    "    \n",
    "        childList = []\n",
    "        if length > 2:\n",
    "            for i in range(3, length):\n",
    "                child = split[i]\n",
    "                child = child.strip(\",\\n\")\n",
    "                childList.append(child)\n",
    "        \n",
    "            children[split[0]] = childList\n",
    "        \n",
    "        line = fo.readline()\n",
    "        \n",
    "    return weights, children"
   ]
  },
  {
   "cell_type": "code",
   "execution_count": 4,
   "metadata": {},
   "outputs": [],
   "source": [
    "filename = \"day7.txt\"\n",
    "weights, children = parseInput(filename)"
   ]
  },
  {
   "cell_type": "code",
   "execution_count": 5,
   "metadata": {},
   "outputs": [],
   "source": [
    "# The tree must have more than one node\n",
    "def findRoot(childrenMap):\n",
    "    children = set()\n",
    "    for childrenList in childrenMap.values():\n",
    "        for child in childrenList:\n",
    "            children.add(child)\n",
    "            \n",
    "    for node in childrenMap.keys():\n",
    "        if not (node in children):\n",
    "            return node\n",
    "        \n",
    "    return None"
   ]
  },
  {
   "cell_type": "code",
   "execution_count": 6,
   "metadata": {},
   "outputs": [
    {
     "name": "stdout",
     "output_type": "stream",
     "text": [
      "ahnofa\n"
     ]
    }
   ],
   "source": [
    "root = findRoot(children)\n",
    "print(root)"
   ]
  },
  {
   "cell_type": "code",
   "execution_count": 7,
   "metadata": {},
   "outputs": [],
   "source": [
    "# Find the node for which the children do not have same path weights\n",
    "# Returns bool describing whether there is a problem,\n",
    "# and weight of the path to leaves if no problem or parent of node causing problem (since we don't know exactly which node caused the problem)\n",
    "# and the weight that the node causing problems should have\n",
    "def findProblem(weightMap, childrenMap, rootNode):\n",
    "    # If leaf node return our weight\n",
    "    if rootNode not in childrenMap.keys():\n",
    "        return False, weightMap[rootNode], None\n",
    "    \n",
    "    childWeights = {}\n",
    "    for child in childrenMap[rootNode]:\n",
    "        prob, res, num = findProblem(weightMap, childrenMap, child)\n",
    "        if prob:\n",
    "            return prob, res, num\n",
    "        \n",
    "        childWeights[child] = res\n",
    "        \n",
    "    if len(set(childWeights.values())) == 1:\n",
    "        return False, weightMap[rootNode] + sum(childWeights.values()), None\n",
    "    \n",
    "    print(childWeights)\n",
    "    if len(childWeights) > 2:\n",
    "       # weights = set(childWeights.values())\n",
    "        correctWeight = None\n",
    "        badChild = None\n",
    "        for child in childWeights.keys():\n",
    "            weight = childWeights[child]\n",
    "            count = list(childWeights.values()).count(weight)\n",
    "            if count != 1:\n",
    "                correctWeight = weight\n",
    "            else:\n",
    "                badChild = child\n",
    "        \n",
    "        \n",
    "        return True, badChild, correctWeight"
   ]
  },
  {
   "cell_type": "code",
   "execution_count": 8,
   "metadata": {},
   "outputs": [
    {
     "name": "stdout",
     "output_type": "stream",
     "text": [
      "{'jnyexah': 1786, 'ltleg': 1792, 'fdnmqri': 1786, 'iysgr': 1786, 'dffdie': 1786, 'vvgyhb': 1786}\n",
      "ltleg 1786\n"
     ]
    }
   ],
   "source": [
    "prob, node, num = findProblem(weights, children, root)\n",
    "print(node, num)"
   ]
  },
  {
   "cell_type": "code",
   "execution_count": null,
   "metadata": {},
   "outputs": [],
   "source": []
  }
 ],
 "metadata": {
  "kernelspec": {
   "display_name": "Python 3",
   "language": "python",
   "name": "python3"
  },
  "language_info": {
   "codemirror_mode": {
    "name": "ipython",
    "version": 3
   },
   "file_extension": ".py",
   "mimetype": "text/x-python",
   "name": "python",
   "nbconvert_exporter": "python",
   "pygments_lexer": "ipython3",
   "version": "3.6.5"
  }
 },
 "nbformat": 4,
 "nbformat_minor": 2
}
