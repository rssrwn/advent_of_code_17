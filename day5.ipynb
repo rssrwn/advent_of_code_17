{
 "cells": [
  {
   "cell_type": "code",
   "execution_count": 2,
   "metadata": {},
   "outputs": [],
   "source": [
    "# Imports\n"
   ]
  },
  {
   "cell_type": "code",
   "execution_count": 5,
   "metadata": {},
   "outputs": [],
   "source": [
    "def parseInput(filename):\n",
    "    res = []\n",
    "    fo = open(filename, \"r\")\n",
    "    line = fo.readline()\n",
    "    while line != \"\":\n",
    "        res.append(int(line))\n",
    "        line = fo.readline()\n",
    "        \n",
    "    return res"
   ]
  },
  {
   "cell_type": "code",
   "execution_count": 20,
   "metadata": {},
   "outputs": [],
   "source": [
    "filename = \"day5.txt\"\n",
    "data = parseInput(filename)\n",
    "#print(data)"
   ]
  },
  {
   "cell_type": "code",
   "execution_count": 21,
   "metadata": {},
   "outputs": [],
   "source": [
    "def simulatePart1(nums):\n",
    "    length = len(nums)\n",
    "    index = 0\n",
    "    numJumps = 0\n",
    "    while index>=0 and index<length:\n",
    "        currNum = nums[index]\n",
    "        nums[index] = nums[index] + 1\n",
    "        index += currNum\n",
    "        numJumps += 1\n",
    "        \n",
    "    return numJumps"
   ]
  },
  {
   "cell_type": "code",
   "execution_count": 23,
   "metadata": {},
   "outputs": [
    {
     "name": "stdout",
     "output_type": "stream",
     "text": [
      "358309\n"
     ]
    }
   ],
   "source": [
    "part1 = simulatePart1(data[:])\n",
    "print(part1)"
   ]
  },
  {
   "cell_type": "code",
   "execution_count": 24,
   "metadata": {},
   "outputs": [],
   "source": [
    "def simulatePart2(nums):\n",
    "    length = len(nums)\n",
    "    index = 0\n",
    "    numJumps = 0\n",
    "    while index>=0 and index<length:\n",
    "        currNum = nums[index]\n",
    "        if nums[index] >= 3:\n",
    "            nums[index] = nums[index] - 1\n",
    "        else:\n",
    "            nums[index] = nums[index] + 1\n",
    "            \n",
    "        index += currNum\n",
    "        numJumps += 1\n",
    "        \n",
    "    return numJumps"
   ]
  },
  {
   "cell_type": "code",
   "execution_count": 25,
   "metadata": {},
   "outputs": [
    {
     "name": "stdout",
     "output_type": "stream",
     "text": [
      "28178177\n"
     ]
    }
   ],
   "source": [
    "part2 = simulatePart2(data[:])\n",
    "print(part2)"
   ]
  },
  {
   "cell_type": "code",
   "execution_count": null,
   "metadata": {},
   "outputs": [],
   "source": []
  }
 ],
 "metadata": {
  "kernelspec": {
   "display_name": "Python 3",
   "language": "python",
   "name": "python3"
  },
  "language_info": {
   "codemirror_mode": {
    "name": "ipython",
    "version": 3
   },
   "file_extension": ".py",
   "mimetype": "text/x-python",
   "name": "python",
   "nbconvert_exporter": "python",
   "pygments_lexer": "ipython3",
   "version": "3.6.5"
  }
 },
 "nbformat": 4,
 "nbformat_minor": 2
}
